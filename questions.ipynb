{
 "cells": [
  {
   "cell_type": "markdown",
   "metadata": {},
   "source": [
    "Responder en base al modelo de datos:\n",
    "- Considerando únicamente la plataforma de Netflix, ¿qué actor aparece más veces?\n",
    "- Top 10 de actores participantes considerando ambas plataformas en el año actual. Se aprecia flexibilidad.\n",
    "- Crear un Stored Proceadure que tome como parámetro un año y devuelva una tabla con las 5 películas con mayor duración en minutos."
   ]
  },
  {
   "cell_type": "code",
   "execution_count": 1,
   "metadata": {},
   "outputs": [],
   "source": [
    "import os\n",
    "import subprocess\n",
    "import sys\n",
    "import json\n",
    "import pandas as pd\n",
    "from google.cloud import bigquery, bigquery_storage\n",
    "\n",
    "# Instalar requisitos\n",
    "def install_requirements():\n",
    "    subprocess.check_call([sys.executable, \"-m\", \"pip\", \"install\", \"-r\", \"requirements.txt\"])\n",
    "    \n",
    "# Leer credenciales de GCP y AWS\n",
    "with open('_credentials/gcp_credentials.json') as gcp_file:\n",
    "    gcp_credentials = json.load(gcp_file)\n",
    "\n",
    "# Configuración de las credenciales de GCP\n",
    "os.environ[\"GOOGLE_APPLICATION_CREDENTIALS\"] = '_credentials/gcp_credentials.json'\n",
    "\n",
    "# Configuración de las credenciales de AWS\n",
    "project_id = gcp_credentials['project_id']\n",
    "dataset_id = gcp_credentials['dataset_id']\n",
    "\n",
    "# Crear un cliente de BigQuery\n",
    "client = bigquery.Client()\n",
    "\n",
    "# Configuración de Pandas\n",
    "pd.set_option('display.max_rows', None)\n",
    "pd.set_option('display.max_columns', None)\n",
    "pd.set_option('display.width', 1000)\n",
    "pd.set_option('display.colheader_justify', 'center')\n",
    "pd.set_option('display.precision', 2)"
   ]
  },
  {
   "cell_type": "markdown",
   "metadata": {},
   "source": [
    "- ### 1. Considerando únicamente la plataforma de Netflix, ¿qué actor aparece más veces?"
   ]
  },
  {
   "cell_type": "code",
   "execution_count": 2,
   "metadata": {},
   "outputs": [
    {
     "name": "stdout",
     "output_type": "stream",
     "text": [
      "Considerando únicamente la plataforma de Netflix, el actor con más apariciones es:\n"
     ]
    },
    {
     "data": {
      "text/html": [
       "<div>\n",
       "<style scoped>\n",
       "    .dataframe tbody tr th:only-of-type {\n",
       "        vertical-align: middle;\n",
       "    }\n",
       "\n",
       "    .dataframe tbody tr th {\n",
       "        vertical-align: top;\n",
       "    }\n",
       "\n",
       "    .dataframe thead th {\n",
       "        text-align: right;\n",
       "    }\n",
       "</style>\n",
       "<table border=\"1\" class=\"dataframe\">\n",
       "  <thead>\n",
       "    <tr style=\"text-align: center;\">\n",
       "      <th></th>\n",
       "      <th>actor</th>\n",
       "      <th>appearances</th>\n",
       "    </tr>\n",
       "  </thead>\n",
       "  <tbody>\n",
       "    <tr>\n",
       "      <th>0</th>\n",
       "      <td>Anupam Kher</td>\n",
       "      <td>43</td>\n",
       "    </tr>\n",
       "  </tbody>\n",
       "</table>\n",
       "</div>"
      ],
      "text/plain": [
       "     actor      appearances\n",
       "0  Anupam Kher      43     "
      ]
     },
     "metadata": {},
     "output_type": "display_data"
    }
   ],
   "source": [
    "def question(file_path,output_csv_path):\n",
    "    # Leer el archivo SQL\n",
    "    with open(file_path, 'r') as file:\n",
    "        query = file.read()\n",
    "\n",
    "    # Ejecutar la consulta\n",
    "    query_job = client.query(query)\n",
    "\n",
    "    # Obtener el resultado como un DataFrame de pandas\n",
    "    result = query_job.result().to_dataframe()\n",
    "\n",
    "    # Guardar el resultado en un archivo CSV\n",
    "    result.to_csv(output_csv_path, index=False)\n",
    "\n",
    "    return result\n",
    "\n",
    "# Path a la primer consulta\n",
    "file_path = 'queries/question_01.sql'\n",
    "\n",
    "# Path al archivo de salida   \n",
    "output_csv_path = 'results/question_01_result.csv'\n",
    "\n",
    "# Ejecutar la consulta y obtener el resultado como DataFrame\n",
    "df = question(file_path,output_csv_path)\n",
    "\n",
    "# Mostrar respuesta\n",
    "print(\"Considerando únicamente la plataforma de Netflix, el actor con más apariciones es:\")\n",
    "display(df)"
   ]
  },
  {
   "cell_type": "markdown",
   "metadata": {},
   "source": [
    "- ### 2. Top 10 de actores participantes considerando ambas plataformas en el año actual."
   ]
  },
  {
   "cell_type": "code",
   "execution_count": 3,
   "metadata": {},
   "outputs": [
    {
     "name": "stdout",
     "output_type": "stream",
     "text": [
      "No hay películas en el dataset que hayan sido lanzadas en el año actual.\n"
     ]
    }
   ],
   "source": [
    "# Path a la segunda consulta\n",
    "file_path = 'queries/question_02.sql'\n",
    "\n",
    "# Path al archivo de salida   \n",
    "output_csv_path = 'results/question_02_result.csv'\n",
    "\n",
    "# Ejecutar la consulta y obtener el resultado como DataFrame\n",
    "df = question(file_path,output_csv_path)\n",
    "\n",
    "# Verificar si el DataFrame está vacío y mostrar el mensaje adecuado\n",
    "if df.empty:\n",
    "    print(\"No hay películas en el dataset que hayan sido lanzadas en el año actual.\")\n",
    "else:\n",
    "    print(\"El Top 10 de actores participantes considerando ambas plataformas en el año actual es el siguiente:\")\n",
    "    display(df)"
   ]
  },
  {
   "cell_type": "markdown",
   "metadata": {},
   "source": [
    "#### Dado que en el año actual no hay resultados podemos realizar otra consulta que lea cuál es el último año con resultados y hacer el Top 10 basados en ese año:"
   ]
  },
  {
   "cell_type": "code",
   "execution_count": 4,
   "metadata": {},
   "outputs": [
    {
     "name": "stdout",
     "output_type": "stream",
     "text": [
      "El Top 10 de actores participantes considerando ambas plataformas en el último año (con resultados) es el siguiente:\n"
     ]
    },
    {
     "data": {
      "text/html": [
       "<div>\n",
       "<style scoped>\n",
       "    .dataframe tbody tr th:only-of-type {\n",
       "        vertical-align: middle;\n",
       "    }\n",
       "\n",
       "    .dataframe tbody tr th {\n",
       "        vertical-align: top;\n",
       "    }\n",
       "\n",
       "    .dataframe thead th {\n",
       "        text-align: right;\n",
       "    }\n",
       "</style>\n",
       "<table border=\"1\" class=\"dataframe\">\n",
       "  <thead>\n",
       "    <tr style=\"text-align: center;\">\n",
       "      <th></th>\n",
       "      <th>actor</th>\n",
       "      <th>release_year</th>\n",
       "      <th>appearances</th>\n",
       "    </tr>\n",
       "  </thead>\n",
       "  <tbody>\n",
       "    <tr>\n",
       "      <th>0</th>\n",
       "      <td>Fortune Feimster</td>\n",
       "      <td>2021</td>\n",
       "      <td>11</td>\n",
       "    </tr>\n",
       "    <tr>\n",
       "      <th>1</th>\n",
       "      <td>David Spade</td>\n",
       "      <td>2021</td>\n",
       "      <td>10</td>\n",
       "    </tr>\n",
       "    <tr>\n",
       "      <th>2</th>\n",
       "      <td>London Hughes</td>\n",
       "      <td>2021</td>\n",
       "      <td>10</td>\n",
       "    </tr>\n",
       "    <tr>\n",
       "      <th>3</th>\n",
       "      <td>Grey Griffin</td>\n",
       "      <td>2021</td>\n",
       "      <td>5</td>\n",
       "    </tr>\n",
       "    <tr>\n",
       "      <th>4</th>\n",
       "      <td>Tress MacNeille</td>\n",
       "      <td>2021</td>\n",
       "      <td>5</td>\n",
       "    </tr>\n",
       "    <tr>\n",
       "      <th>5</th>\n",
       "      <td>Dee Bradley Baker</td>\n",
       "      <td>2021</td>\n",
       "      <td>4</td>\n",
       "    </tr>\n",
       "    <tr>\n",
       "      <th>6</th>\n",
       "      <td>Fred Tatasciore</td>\n",
       "      <td>2021</td>\n",
       "      <td>4</td>\n",
       "    </tr>\n",
       "    <tr>\n",
       "      <th>7</th>\n",
       "      <td>Bill Farmer</td>\n",
       "      <td>2021</td>\n",
       "      <td>4</td>\n",
       "    </tr>\n",
       "    <tr>\n",
       "      <th>8</th>\n",
       "      <td>Surya Ganapathy</td>\n",
       "      <td>2021</td>\n",
       "      <td>4</td>\n",
       "    </tr>\n",
       "    <tr>\n",
       "      <th>9</th>\n",
       "      <td>Madhuri</td>\n",
       "      <td>2021</td>\n",
       "      <td>4</td>\n",
       "    </tr>\n",
       "  </tbody>\n",
       "</table>\n",
       "</div>"
      ],
      "text/plain": [
       "        actor         release_year  appearances\n",
       "0   Fortune Feimster      2021          11     \n",
       "1        David Spade      2021          10     \n",
       "2      London Hughes      2021          10     \n",
       "3       Grey Griffin      2021           5     \n",
       "4    Tress MacNeille      2021           5     \n",
       "5  Dee Bradley Baker      2021           4     \n",
       "6    Fred Tatasciore      2021           4     \n",
       "7        Bill Farmer      2021           4     \n",
       "8    Surya Ganapathy      2021           4     \n",
       "9            Madhuri      2021           4     "
      ]
     },
     "metadata": {},
     "output_type": "display_data"
    }
   ],
   "source": [
    "# Path a la consulta alternativa\n",
    "file_path = 'queries/question_02_alt.sql'\n",
    "\n",
    "# Path al archivo de salida   \n",
    "output_csv_path = 'results/question_02_alt_result.csv'\n",
    "\n",
    "# Ejecutar la consulta y obtener el resultado como DataFrame\n",
    "df = question(file_path, output_csv_path)\n",
    "\n",
    "# Mostrar respuesta\n",
    "print(\"El Top 10 de actores participantes considerando ambas plataformas en el último año (con resultados) es el siguiente:\")\n",
    "display(df)"
   ]
  },
  {
   "cell_type": "markdown",
   "metadata": {},
   "source": [
    "- ### 3. Crear un Stored Proceadure que tome como parámetro un año y devuelva una tabla con las 5 películas con mayor duración en minutos"
   ]
  },
  {
   "cell_type": "code",
   "execution_count": 5,
   "metadata": {},
   "outputs": [
    {
     "name": "stdout",
     "output_type": "stream",
     "text": [
      "Las 5 películas con mayor duración en minutos del año 2021 son:\n"
     ]
    },
    {
     "data": {
      "text/html": [
       "<div>\n",
       "<style scoped>\n",
       "    .dataframe tbody tr th:only-of-type {\n",
       "        vertical-align: middle;\n",
       "    }\n",
       "\n",
       "    .dataframe tbody tr th {\n",
       "        vertical-align: top;\n",
       "    }\n",
       "\n",
       "    .dataframe thead th {\n",
       "        text-align: right;\n",
       "    }\n",
       "</style>\n",
       "<table border=\"1\" class=\"dataframe\">\n",
       "  <thead>\n",
       "    <tr style=\"text-align: center;\">\n",
       "      <th></th>\n",
       "      <th>duration_minutes</th>\n",
       "      <th>title</th>\n",
       "    </tr>\n",
       "  </thead>\n",
       "  <tbody>\n",
       "    <tr>\n",
       "      <th>0</th>\n",
       "      <td>273</td>\n",
       "      <td>Headspace: Unwind Your Mind</td>\n",
       "    </tr>\n",
       "    <tr>\n",
       "      <th>1</th>\n",
       "      <td>159</td>\n",
       "      <td>Jagame Thandhiram</td>\n",
       "    </tr>\n",
       "    <tr>\n",
       "      <th>2</th>\n",
       "      <td>151</td>\n",
       "      <td>Aelay</td>\n",
       "    </tr>\n",
       "    <tr>\n",
       "      <th>3</th>\n",
       "      <td>148</td>\n",
       "      <td>Army of the Dead</td>\n",
       "    </tr>\n",
       "    <tr>\n",
       "      <th>4</th>\n",
       "      <td>145</td>\n",
       "      <td>Tughlaq Durbar (Telugu)</td>\n",
       "    </tr>\n",
       "  </tbody>\n",
       "</table>\n",
       "</div>"
      ],
      "text/plain": [
       "   duration_minutes            title            \n",
       "0         273        Headspace: Unwind Your Mind\n",
       "1         159                  Jagame Thandhiram\n",
       "2         151                              Aelay\n",
       "3         148                   Army of the Dead\n",
       "4         145            Tughlaq Durbar (Telugu)"
      ]
     },
     "metadata": {},
     "output_type": "display_data"
    }
   ],
   "source": [
    "# Definir el año a analizar\n",
    "year = 2021\n",
    "\n",
    "def stored_procedure():\n",
    "    file_path = 'queries/question_03_sp.sql'\n",
    "    \n",
    "    # Leer el archivo SQL\n",
    "    with open(file_path, 'r') as file:\n",
    "        query = file.read().format(year=year)\n",
    "\n",
    "    # Ejecutar la consulta\n",
    "    query_job = client.query(query)\n",
    "\n",
    "    # Espera que el procedimiento haya terminado\n",
    "    query_job.result()\n",
    "\n",
    "    return\n",
    "\n",
    "def question_03():\n",
    "    # Path a la consulta\n",
    "    file_path = 'queries/question_03_query.sql'\n",
    "    \n",
    "    # Path al archivo de salida   \n",
    "    output_csv_path = 'results/question_03.csv'\n",
    "\n",
    "    # Leer el archivo SQL\n",
    "    with open(file_path, 'r') as file:\n",
    "        query = file.read()\n",
    "\n",
    "    # Ejecutar la consulta\n",
    "    query_job = client.query(query)\n",
    "\n",
    "    # Obtener el resultado como un DataFrame de pandas\n",
    "    result = query_job.result().to_dataframe()\n",
    "\n",
    "    # Guardar el resultado en un archivo CSV\n",
    "    result.to_csv(output_csv_path, index=False)\n",
    "\n",
    "    return result\n",
    "\n",
    "# Ejecutar procedimiento almacenado\n",
    "stored_procedure()\n",
    "\n",
    "# Ejecutar la consulta y obtener el resultado como DataFrame\n",
    "df = question_03()\n",
    "\n",
    "# Mostrar respuesta\n",
    "print(f\"Las 5 películas con mayor duración en minutos del año {year} son:\")\n",
    "display(df)"
   ]
  }
 ],
 "metadata": {
  "kernelspec": {
   "display_name": "Python 3",
   "language": "python",
   "name": "python3"
  },
  "language_info": {
   "codemirror_mode": {
    "name": "ipython",
    "version": 3
   },
   "file_extension": ".py",
   "mimetype": "text/x-python",
   "name": "python",
   "nbconvert_exporter": "python",
   "pygments_lexer": "ipython3",
   "version": "3.11.9"
  }
 },
 "nbformat": 4,
 "nbformat_minor": 2
}
